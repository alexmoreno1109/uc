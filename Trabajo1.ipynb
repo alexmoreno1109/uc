{
  "nbformat": 4,
  "nbformat_minor": 0,
  "metadata": {
    "colab": {
      "provenance": [],
      "authorship_tag": "ABX9TyOJMwLlfJQPJmDj3zlqcjGh",
      "include_colab_link": true
    },
    "kernelspec": {
      "name": "python3",
      "display_name": "Python 3"
    },
    "language_info": {
      "name": "python"
    }
  },
  "cells": [
    {
      "cell_type": "markdown",
      "metadata": {
        "id": "view-in-github",
        "colab_type": "text"
      },
      "source": [
        "<a href=\"https://colab.research.google.com/github/alexmoreno1109/uc/blob/main/Trabajo1.ipynb\" target=\"_parent\"><img src=\"https://colab.research.google.com/assets/colab-badge.svg\" alt=\"Open In Colab\"/></a>"
      ]
    },
    {
      "cell_type": "code",
      "execution_count": 12,
      "metadata": {
        "colab": {
          "base_uri": "https://localhost:8080/"
        },
        "id": "OGYuS2WXt3FJ",
        "outputId": "59346f50-c9d7-47b4-a7fb-249e3fb49165"
      },
      "outputs": [
        {
          "output_type": "stream",
          "name": "stdout",
          "text": [
            "El elemento en la fila 1 y columna 2 es: 24.0\n",
            "Matriz original:\n",
            "array('f', [1.0, 2.0, 3.140000104904175, 10.0, 4.199999809265137, 24.0, 0.11100000143051147, -inf, nan])\n",
            "\n",
            "Matriz después de intercambiar renglones:\n",
            "array('f', [0.11100000143051147, -inf, nan, 10.0, 4.199999809265137, 24.0, 1.0, 2.0, 3.140000104904175])\n",
            "Matriz original:\n",
            "array('f', [0.11100000143051147, -inf, nan, 10.0, 4.199999809265137, 24.0, 1.0, 2.0, 3.140000104904175])\n",
            "\n",
            "Matriz después de multiplicar el renglón por el escalar:\n",
            "array('f', [0.11100000143051147, -inf, nan, 20.0, 8.399999618530273, 48.0, 1.0, 2.0, 3.140000104904175])\n"
          ]
        }
      ],
      "source": [
        "from array import array\n",
        "matriz=array('f',[1.0, 2, 3.14, 10, 4.20, 24, 0.111, float('-inf'), float('nan')]) # Matriz 3x3 representada como un array\n",
        "def obtener_elemento(matriz, fila, columna):\n",
        "    # Verificar si la fila y la columna están dentro del rango permitido\n",
        "    if fila < 0 or fila >= 3 or columna < 0 or columna >= 3:\n",
        "        return \"Índices fuera de rango\"\n",
        "\n",
        "    # Calcular el índice en el array unidimensional\n",
        "    indice = fila * 3 + columna\n",
        "\n",
        "    # Retornar el elemento en el índice calculado\n",
        "    return matriz[indice]\n",
        "\n",
        "# Ejemplo de uso\n",
        "fila = 1\n",
        "columna = 2\n",
        "\n",
        "elemento = obtener_elemento(matriz, fila, columna)\n",
        "print(f\"El elemento en la fila {fila} y columna {columna} es: {elemento}\")\n",
        "\n",
        "def intercambiar_renglones(matriz, fila1, fila2):\n",
        "    # Verificar si los índices de los renglones están dentro del rango permitido\n",
        "    if fila1 < 0 or fila1 >= 3 or fila2 < 0 or fila2 >= 3:\n",
        "        return \"Índices de renglón fuera de rango\"\n",
        "\n",
        "    # Calcular los índices de inicio de los renglones en el array unidimensional\n",
        "    inicio_fila1 = fila1 * 3\n",
        "    inicio_fila2 = fila2 * 3\n",
        "\n",
        "    # Intercambiar los elementos de los renglones en el array unidimensional\n",
        "    for i in range(3):\n",
        "        temp = matriz[inicio_fila1 + i]\n",
        "        matriz[inicio_fila1 + i] = matriz[inicio_fila2 + i]\n",
        "        matriz[inicio_fila2 + i] = temp\n",
        "\n",
        "    return matriz\n",
        "\n",
        "# Ejemplo de uso\n",
        "\n",
        "print(\"Matriz original:\")\n",
        "print(matriz)\n",
        "\n",
        "fila1 = 0\n",
        "fila2 = 2\n",
        "\n",
        "nueva_matriz = intercambiar_renglones(matriz, fila1, fila2)\n",
        "\n",
        "print(\"\\nMatriz después de intercambiar renglones:\")\n",
        "print(nueva_matriz)\n",
        "\n",
        "def multiplicar_renglon_por_escalar(matriz, fila, escalar):\n",
        "    # Verificar si el índice del renglón está dentro del rango permitido\n",
        "    if filaescalar < 0 or filaescalar >= 3:\n",
        "        return \"Índice de renglón fuera de rango\"\n",
        "\n",
        "    # Calcular el índice de inicio del renglón en el array unidimensional\n",
        "    inicio_renglon = filaescalar * 3\n",
        "\n",
        "    # Multiplicar cada elemento del renglón por el escalar\n",
        "    for i in range(3):\n",
        "        matriz[inicio_renglon + i] *= escalar\n",
        "\n",
        "    return matriz\n",
        "\n",
        "# Ejemplo de uso\n",
        "\n",
        "print(\"Matriz original:\")\n",
        "print(matriz)\n",
        "\n",
        "filaescalar = 1\n",
        "escalar = 2\n",
        "\n",
        "nueva_matrizescalar = multiplicar_renglon_por_escalar(matriz, fila, escalar)\n",
        "\n",
        "print(\"\\nMatriz después de multiplicar el renglón por el escalar:\")\n",
        "print(nueva_matrizescalar)"
      ]
    }
  ]
}