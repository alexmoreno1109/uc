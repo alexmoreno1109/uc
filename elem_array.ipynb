{
  "nbformat": 4,
  "nbformat_minor": 0,
  "metadata": {
    "colab": {
      "provenance": [],
      "authorship_tag": "ABX9TyOx3nUG2SxdUcEDRlmpsvVt",
      "include_colab_link": true
    },
    "kernelspec": {
      "name": "python3",
      "display_name": "Python 3"
    },
    "language_info": {
      "name": "python"
    }
  },
  "cells": [
    {
      "cell_type": "markdown",
      "metadata": {
        "id": "view-in-github",
        "colab_type": "text"
      },
      "source": [
        "<a href=\"https://colab.research.google.com/github/alexmoreno1109/uc/blob/main/elem_array.ipynb\" target=\"_parent\"><img src=\"https://colab.research.google.com/assets/colab-badge.svg\" alt=\"Open In Colab\"/></a>"
      ]
    },
    {
      "cell_type": "markdown",
      "source": [
        "# Taller 1 Microcontroladores\n",
        "# Jhon Moreno\n",
        "# Código: 20202005031"
      ],
      "metadata": {
        "id": "aDJcjRESEKNU"
      }
    },
    {
      "cell_type": "markdown",
      "source": [
        "El siguiente programa busca desarrollar operaciones con una matriz de 3x3 que se basa en un arreglo de 9 elementos. Con la siguiente funcion lograremos obtener un elemento que se encuentra en la fila y columna de nuestra eleccion."
      ],
      "metadata": {
        "id": "DPRJGl9yt47S"
      }
    },
    {
      "cell_type": "code",
      "execution_count": null,
      "metadata": {
        "colab": {
          "base_uri": "https://localhost:8080/"
        },
        "id": "OGYuS2WXt3FJ",
        "outputId": "a54608ef-c014-4269-ecd8-cf71805e3c66"
      },
      "outputs": [
        {
          "output_type": "stream",
          "name": "stdout",
          "text": [
            "El elemento en la fila 1 y columna 2 es: 24.0\n"
          ]
        }
      ],
      "source": [
        "from array import array\n",
        "matriz=array('f',[1.0, 2, 3.14, 10, 4.20, 24, 0.111, float('-inf'), float('nan')]) # Matriz 3x3 representada como un array\n",
        "def obtener_elemento(matriz, fila, columna):\n",
        "    # Verificar si la fila y la columna están dentro del rango permitido\n",
        "    if fila < 0 or fila >= 3 or columna < 0 or columna >= 3:\n",
        "        return \"Índices fuera de rango\"\n",
        "\n",
        "    # Calcular el índice en el array unidimensional\n",
        "    indice = fila * 3 + columna\n",
        "\n",
        "    # Retornar el elemento en el índice calculado\n",
        "    return matriz[indice]\n",
        "\n",
        "# Ejemplo de uso\n",
        "fila = 1\n",
        "columna = 2\n",
        "\n",
        "elemento = obtener_elemento(matriz, fila, columna)\n",
        "print(f\"El elemento en la fila {fila} y columna {columna} es: {elemento}\")\n"
      ]
    },
    {
      "cell_type": "markdown",
      "source": [
        "# Operaciones elementales"
      ],
      "metadata": {
        "id": "VJqLQfiuu16a"
      }
    },
    {
      "cell_type": "markdown",
      "source": [
        "El siguiente codigo nos muestra entonces la **primera operacion elemental**, con la cual podremos intercambiar de lugar 2 renglones de nuestra eleccion. Para nuestro caso decidimos intercambiar las filas 0 y 2."
      ],
      "metadata": {
        "id": "NbwPwfnOuXgC"
      }
    },
    {
      "cell_type": "code",
      "source": [
        "def intercambiar_renglones(matriz, fila1, fila2):\n",
        "    # Verificar si los índices de los renglones están dentro del rango permitido\n",
        "    if fila1 < 0 or fila1 >= 3 or fila2 < 0 or fila2 >= 3:\n",
        "        return \"Índices de renglón fuera de rango\"\n",
        "\n",
        "    # Calcular los índices de inicio de los renglones en el array unidimensional\n",
        "    inicio_fila1 = fila1 * 3\n",
        "    inicio_fila2 = fila2 * 3\n",
        "\n",
        "    # Intercambiar los elementos de los renglones en el array unidimensional\n",
        "    for i in range(3):\n",
        "        temp = matriz[inicio_fila1 + i]\n",
        "        matriz[inicio_fila1 + i] = matriz[inicio_fila2 + i]\n",
        "        matriz[inicio_fila2 + i] = temp\n",
        "\n",
        "    return matriz\n",
        "\n",
        "# Ejemplo de uso\n",
        "\n",
        "print(\"Matriz original:\")\n",
        "print(matriz)\n",
        "\n",
        "fila1 = 0\n",
        "fila2 = 2\n",
        "\n",
        "nueva_matriz = intercambiar_renglones(matriz, fila1, fila2)\n",
        "\n",
        "print(\"\\nMatriz después de intercambiar renglones:\")\n",
        "print(nueva_matriz)"
      ],
      "metadata": {
        "colab": {
          "base_uri": "https://localhost:8080/"
        },
        "id": "TTOH5ce2y4U0",
        "outputId": "d78d2835-b538-4fc0-d59a-a98394046743"
      },
      "execution_count": null,
      "outputs": [
        {
          "output_type": "stream",
          "name": "stdout",
          "text": [
            "Matriz original:\n",
            "array('f', [1.0, 2.0, 3.140000104904175, 10.0, 4.199999809265137, 24.0, 0.11100000143051147, -inf, nan])\n",
            "\n",
            "Matriz después de intercambiar renglones:\n",
            "array('f', [0.11100000143051147, -inf, nan, 10.0, 4.199999809265137, 24.0, 1.0, 2.0, 3.140000104904175])\n"
          ]
        }
      ]
    },
    {
      "cell_type": "markdown",
      "source": [
        "El siguiente codigo nos muestra entonces la segunda operacion elemental, esta nos permite multiplicar un escalar por un renglon de la matriz de nuestra eleccion. En este caso multiplicamos el escalar 2 a la fila 1 de la matriz. (2)R1 -> R1"
      ],
      "metadata": {
        "id": "kI1SnFS2vJpq"
      }
    },
    {
      "cell_type": "code",
      "source": [
        "\n",
        "\n",
        "def multiplicar_renglon_por_escalar(matriz, fila, escalar):\n",
        "    # Verificar si el índice del renglón está dentro del rango permitido\n",
        "    if fila < 0 or fila >= 3:\n",
        "        return \"Índice de renglón fuera de rango\"\n",
        "\n",
        "    # Calcular el índice de inicio del renglón en el array unidimensional\n",
        "    inicio_renglon = fila * 3\n",
        "\n",
        "    # Multiplicar cada elemento del renglón por el escalar\n",
        "    for i in range(3):\n",
        "        matriz[inicio_renglon + i] *= escalar\n",
        "\n",
        "    return matriz\n",
        "\n",
        "# Ejemplo de uso\n",
        "matriz=array('f',[1.0, 2, 3.14, 10, 4.20, 24, 0.111, float('-inf'), float('nan')]) # Matriz 3x3 representada como un array\n",
        "\n",
        "print(\"Matriz original:\")\n",
        "print(matriz)\n",
        "\n",
        "fila = 1\n",
        "escalar = 2\n",
        "\n",
        "nueva_matriz = multiplicar_renglon_por_escalar(matriz, fila, escalar)\n",
        "\n",
        "print(\"\\nMatriz después de multiplicar el renglón por el escalar:\")\n",
        "print(nueva_matriz)\n"
      ],
      "metadata": {
        "colab": {
          "base_uri": "https://localhost:8080/"
        },
        "id": "vXCyTtW4h0x_",
        "outputId": "e17e7d8f-0670-49c5-c521-7723adddde4b"
      },
      "execution_count": null,
      "outputs": [
        {
          "output_type": "stream",
          "name": "stdout",
          "text": [
            "Matriz original:\n",
            "array('f', [1.0, 2.0, 3.140000104904175, 10.0, 4.199999809265137, 24.0, 0.11100000143051147, -inf, nan])\n",
            "\n",
            "Matriz después de multiplicar el renglón por el escalar:\n",
            "array('f', [1.0, 2.0, 3.140000104904175, 20.0, 8.399999618530273, 48.0, 0.11100000143051147, -inf, nan])\n"
          ]
        }
      ]
    },
    {
      "cell_type": "markdown",
      "source": [
        "El siguiente codigo relaciona la **tercer funcion elemental**, Suma un múltiplo (no nulo) de un renglón a otro. Podemos multiplicar un renglon a eleccion por una constante, y el resultado sumarlo a otro renglon de nuestra eleccion que tambien multiplicaremos por otra constante. En este caso multiplicamos la fila 0 por 2 y la sumamos con la fila 2 multiplicada por el escalar 3. El resultado lo almacenamos en la fila 2 (2R0 + 3R2 -> R2)"
      ],
      "metadata": {
        "id": "abnfqMQttHM7"
      }
    },
    {
      "cell_type": "code",
      "source": [
        "def operacion_renglon(matriz, renglon_modificar, escalar1, renglon_sumar, escalar2, renglon_resultado):\n",
        "    # Verificar si los índices de los renglones están dentro del rango permitido\n",
        "    if renglon_modificar < 0 or renglon_modificar >= 3 or renglon_sumar < 0 or renglon_sumar >= 3 or renglon_resultado < 0 or renglon_resultado >= 3:\n",
        "        return \"Índices de renglón fuera de rango\"\n",
        "\n",
        "    # Calcular los índices de inicio de los renglones en el array unidimensional\n",
        "    inicio_renglon_modificar = renglon_modificar * 3\n",
        "    inicio_renglon_sumar = renglon_sumar * 3\n",
        "    inicio_renglon_resultado = renglon_resultado * 3\n",
        "\n",
        "    # Realizar la operación: (escalar1 * renglon_modificar) + (escalar2 * renglon_sumar)\n",
        "    for i in range(3):\n",
        "        matriz[inicio_renglon_resultado + i] = (escalar1 * matriz[inicio_renglon_modificar + i]) + (escalar2 * matriz[inicio_renglon_sumar + i])\n",
        "\n",
        "    return matriz\n",
        "\n",
        "# Ejemplo de uso\n",
        "matriz=array('f',[1.0, 2, 3.14, 10, 4.20, 24, 0.111, float('-inf'), float('nan')]) # Matriz 3x3 representada como un array\n",
        "\n",
        "print(\"Matriz original:\")\n",
        "print(matriz)\n",
        "\n",
        "renglon_modificar = 0\n",
        "escalar1 = 2\n",
        "renglon_sumar = 1\n",
        "escalar2 = 3\n",
        "renglon_resultado = 2\n",
        "\n",
        "nueva_matriz = operacion_renglon(matriz, renglon_modificar, escalar1, renglon_sumar, escalar2, renglon_resultado)\n",
        "\n",
        "print(\"\\nMatriz después de la operación:\")\n",
        "print(nueva_matriz)"
      ],
      "metadata": {
        "colab": {
          "base_uri": "https://localhost:8080/"
        },
        "id": "Pw786c0xsG1U",
        "outputId": "3995935b-9fdc-430f-d18c-5764aa128905"
      },
      "execution_count": null,
      "outputs": [
        {
          "output_type": "stream",
          "name": "stdout",
          "text": [
            "Matriz original:\n",
            "array('f', [1.0, 2.0, 3.140000104904175, 10.0, 4.199999809265137, 24.0, 0.11100000143051147, -inf, nan])\n",
            "\n",
            "Matriz después de la operación:\n",
            "array('f', [1.0, 2.0, 3.140000104904175, 10.0, 4.199999809265137, 24.0, 32.0, 16.599998474121094, 78.27999877929688])\n"
          ]
        }
      ]
    },
    {
      "cell_type": "markdown",
      "source": [
        "Ahora para confirmar que se esten realizando las operaciones esperadas, realizaremos la comparacion con el siguiente codigo realizado con ayuda de la libreria simpy de Python:"
      ],
      "metadata": {
        "id": "vWXfQQj4vZwh"
      }
    },
    {
      "cell_type": "code",
      "source": [
        "import sympy as sp # Se llama la librería `sympy` con el alias `sp`.\n",
        "\n",
        "# se define en la matriz `A`\n",
        "\n",
        "A = (sp.Matrix([\n",
        "    [1.0, 2.0, 3.140000104904175],\n",
        "    [10.0, 4.199999809265137, 24.0],\n",
        "    [0.11100000143051147, float('-inf'), float('nan')]\n",
        "]))\n",
        "\n",
        "A"
      ],
      "metadata": {
        "colab": {
          "base_uri": "https://localhost:8080/",
          "height": 78
        },
        "id": "y2lx5YEIvu46",
        "outputId": "ffaa4a24-9165-45ef-87bb-ca7441eedf87"
      },
      "execution_count": null,
      "outputs": [
        {
          "output_type": "execute_result",
          "data": {
            "text/plain": [
              "Matrix([\n",
              "[              1.0,              2.0, 3.14000010490417],\n",
              "[             10.0, 4.19999980926514,             24.0],\n",
              "[0.111000001430511,              -oo,              nan]])"
            ],
            "text/latex": "$\\displaystyle \\left[\\begin{matrix}1.0 & 2.0 & 3.14000010490417\\\\10.0 & 4.19999980926514 & 24.0\\\\0.111000001430511 & -\\infty & \\text{NaN}\\end{matrix}\\right]$"
          },
          "metadata": {},
          "execution_count": 102
        }
      ]
    },
    {
      "cell_type": "markdown",
      "source": [
        "Procedemos a obtener un elemento de la matriz, como el codigo realizado anteriormente tomamos como condiciones Renglón 1 y columna 2, tomaremos los mismos.\n",
        "\n",
        "\n",
        "A[1,2]"
      ],
      "metadata": {
        "id": "Od1CseRBFMet"
      }
    },
    {
      "cell_type": "code",
      "source": [
        "A[1,2]"
      ],
      "metadata": {
        "colab": {
          "base_uri": "https://localhost:8080/",
          "height": 37
        },
        "id": "r0rPm1_NIKGS",
        "outputId": "5b5407d8-1862-415a-8146-dec0acf584e1"
      },
      "execution_count": null,
      "outputs": [
        {
          "output_type": "execute_result",
          "data": {
            "text/plain": [
              "24.0000000000000"
            ],
            "text/latex": "$\\displaystyle 24.0$"
          },
          "metadata": {},
          "execution_count": 103
        }
      ]
    },
    {
      "cell_type": "markdown",
      "source": [
        "De esta manera vemos que concuerdan los datos obtenidos anteriormente. Ahora procedemos a corroborar la primera operacion fundamental con ayuda de esta libreria, esperamos obtener resultados iguales."
      ],
      "metadata": {
        "id": "afcyCo_XIOCD"
      }
    },
    {
      "cell_type": "code",
      "source": [
        "# Copia la matriz en otra variable.\n",
        "# Evita que las dos variables apunten a la misma matriz.\n",
        "\n",
        "M = A[:,:]\n",
        "\n",
        "# Intercambiar el renglón 0 con el renglón 2,\n",
        "# R0 <-> R2\n",
        "\n",
        "M.row_swap(0,2)\n",
        "print(\"Matriz intercambiada:\")\n",
        "M"
      ],
      "metadata": {
        "colab": {
          "base_uri": "https://localhost:8080/",
          "height": 95
        },
        "id": "LUWvgn8qKSK7",
        "outputId": "f2e4d514-699f-4eaa-8845-af438b5be5e1"
      },
      "execution_count": null,
      "outputs": [
        {
          "output_type": "stream",
          "name": "stdout",
          "text": [
            "Matriz intercambiada:\n"
          ]
        },
        {
          "output_type": "execute_result",
          "data": {
            "text/plain": [
              "Matrix([\n",
              "[0.111000001430511,              -oo,              nan],\n",
              "[             10.0, 4.19999980926514,             24.0],\n",
              "[              1.0,              2.0, 3.14000010490417]])"
            ],
            "text/latex": "$\\displaystyle \\left[\\begin{matrix}0.111000001430511 & -\\infty & \\text{NaN}\\\\10.0 & 4.19999980926514 & 24.0\\\\1.0 & 2.0 & 3.14000010490417\\end{matrix}\\right]$"
          },
          "metadata": {},
          "execution_count": 104
        }
      ]
    },
    {
      "cell_type": "markdown",
      "source": [
        "Con esta matriz entonces logramos ver que concuerda con la realizada con la libreria Array, las filas 0 y 2 fueron intercambiadas correctamente. Para verificar la segunda operacion fundamental tenemos el siguiente codigo"
      ],
      "metadata": {
        "id": "k1YDdYoWLLpL"
      }
    },
    {
      "cell_type": "code",
      "source": [
        "# Multiplicar el renglón 1 por un 2,\n",
        "# (2)R1 -> R1\n",
        "O=A[:,:]\n",
        "\n",
        "O[1,:] = 2*O[1,:]   #Si se contrae cambia las fracciones por decimales\n",
        "O"
      ],
      "metadata": {
        "colab": {
          "base_uri": "https://localhost:8080/",
          "height": 78
        },
        "id": "Z0tfgYxpMTva",
        "outputId": "f46aca8f-05d3-4d87-a85d-34ca11ebf78f"
      },
      "execution_count": null,
      "outputs": [
        {
          "output_type": "execute_result",
          "data": {
            "text/plain": [
              "Matrix([\n",
              "[              1.0,              2.0, 3.14000010490417],\n",
              "[             20.0, 8.39999961853027,             48.0],\n",
              "[0.111000001430511,              -oo,              nan]])"
            ],
            "text/latex": "$\\displaystyle \\left[\\begin{matrix}1.0 & 2.0 & 3.14000010490417\\\\20.0 & 8.39999961853027 & 48.0\\\\0.111000001430511 & -\\infty & \\text{NaN}\\end{matrix}\\right]$"
          },
          "metadata": {},
          "execution_count": 105
        }
      ]
    },
    {
      "cell_type": "markdown",
      "source": [
        "Podemos entonces observar que se cumple la igualdad en los resultados realizados con sympy y los resultados obtenidos con la libreria de Array. Ahora evaluaremos la tercer operacion fundamental, en este caso multiplicamos la fila 0 por 2 y la sumamos con la fila 2 multiplicada por el escalar 3. El resultado lo almacenamos en la fila 2 (2R0 + 3R1 -> R2)"
      ],
      "metadata": {
        "id": "d9DyQJQWOgqy"
      }
    },
    {
      "cell_type": "code",
      "source": [
        "N=A[:,:]\n",
        "\n",
        "N\n",
        "\n",
        "N[2,:]=N[0,:]*2 + N[1,:]*3\n",
        "\n",
        "N"
      ],
      "metadata": {
        "colab": {
          "base_uri": "https://localhost:8080/",
          "height": 78
        },
        "id": "DDFGsQe-TtLS",
        "outputId": "ef7e8cc0-2a78-46ce-df64-575d3023d96d"
      },
      "execution_count": null,
      "outputs": [
        {
          "output_type": "execute_result",
          "data": {
            "text/plain": [
              "Matrix([\n",
              "[ 1.0,              2.0, 3.14000010490417],\n",
              "[10.0, 4.19999980926514,             24.0],\n",
              "[32.0, 16.5999994277954, 78.2800002098083]])"
            ],
            "text/latex": "$\\displaystyle \\left[\\begin{matrix}1.0 & 2.0 & 3.14000010490417\\\\10.0 & 4.19999980926514 & 24.0\\\\32.0 & 16.5999994277954 & 78.2800002098083\\end{matrix}\\right]$"
          },
          "metadata": {},
          "execution_count": 106
        }
      ]
    },
    {
      "cell_type": "markdown",
      "source": [
        "De esta manera podemos ver que los resultados obtenidos aun utilizando las dos librerias diferentes, son equivalentes. De esta manera entonces confirmamos todas las operaciones, concluyendo que se encuentran efectuadas de manera correcta."
      ],
      "metadata": {
        "id": "XuuaZ0wFUGG3"
      }
    }
  ]
}